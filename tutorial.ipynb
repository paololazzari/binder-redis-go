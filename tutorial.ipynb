{
 "cells": [
  {
   "cell_type": "code",
   "execution_count": null,
   "metadata": {
    "vscode": {
     "languageId": "go"
    }
   },
   "outputs": [],
   "source": [
    "import (\n",
    "\t\"context\"\n",
    "\t\"fmt\"\n",
    "\t\"github.com/redis/go-redis/v9\"\n",
    ")\n",
    "\n",
    "func main() {}"
   ]
  },
  {
   "cell_type": "code",
   "execution_count": null,
   "metadata": {
    "vscode": {
     "languageId": "go"
    }
   },
   "outputs": [],
   "source": [
    "%%\n",
    "client := redis.NewClient(&redis.Options{\n",
    "    Addr:\t  \"localhost:6379\",\n",
    "    Password: \"\", // No password set\n",
    "    DB:\t\t  0,  // Use default DB\n",
    "    Protocol: 2,  // Connection protocol\n",
    "})\n",
    "ctx := context.Background()\n",
    "\n",
    "err := client.Set(ctx, \"foo\", \"bar\", 0).Err()\n",
    "if err != nil {\n",
    "    panic(err)\n",
    "}\n",
    "\n",
    "val, err := client.Get(ctx, \"foo\").Result()\n",
    "if err != nil {\n",
    "    panic(err)\n",
    "}\n",
    "fmt.Println(\"foo\", val)"
   ]
  },
  {
   "cell_type": "code",
   "execution_count": null,
   "metadata": {
    "vscode": {
     "languageId": "go"
    }
   },
   "outputs": [],
   "source": [
    "%%\n",
    "client := redis.NewClient(&redis.Options{\n",
    "    Addr:\t  \"localhost:6379\",\n",
    "    Password: \"\", // No password set\n",
    "    DB:\t\t  0,  // Use default DB\n",
    "    Protocol: 2,  // Connection protocol\n",
    "})\n",
    "ctx := context.Background()\n",
    "\n",
    "hashFields := []string{\n",
    "    \"model\", \"Deimos\",\n",
    "    \"brand\", \"Ergonom\",\n",
    "    \"type\", \"Enduro bikes\",\n",
    "    \"price\", \"4972\",\n",
    "}\n",
    "\n",
    "res1, err := client.HSet(ctx, \"bike:1\", hashFields).Result()\n",
    "\n",
    "if err != nil {\n",
    "    panic(err)\n",
    "}\n",
    "fmt.Println(res1)"
   ]
  }
 ],
 "metadata": {
  "language_info": {
   "name": "python"
  }
 },
 "nbformat": 4,
 "nbformat_minor": 2
}
